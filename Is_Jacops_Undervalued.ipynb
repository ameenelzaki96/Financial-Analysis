{
  "nbformat": 4,
  "nbformat_minor": 0,
  "metadata": {
    "colab": {
      "provenance": []
    },
    "kernelspec": {
      "name": "python3",
      "display_name": "Python 3"
    },
    "language_info": {
      "name": "python"
    }
  },
  "cells": [
    {
      "cell_type": "markdown",
      "source": [
        "Four Engineering Consultancies are anlayzed. The goal is to see how to they compare with each others using fundamental analysis."
      ],
      "metadata": {
        "id": "g_NhKZj9tPXi"
      }
    },
    {
      "cell_type": "markdown",
      "source": [
        "- The companies under Consideration are providing design, consulting, and project management services. Their revenue is often fee-based (contracts, consulting), sometimes tied to large-scale infrastructure or industrial projects.\n",
        "\n",
        "- Although Arcadis is headquartered in Europe, Stantec in Canda; all the companies have a strong presence in the US market.\n",
        "\n",
        "- The companies are all publicly listed therefore their financial data are publicly available.\n",
        "\n",
        "How the selected companies are perceived by the engineering community can be found at the Engineering News Record (ENR). The link is below:\n",
        "\n",
        "https://www.enr.com/toplists/2025-top-500-design-firms-preview"
      ],
      "metadata": {
        "id": "GYiz2CgS10Pa"
      }
    },
    {
      "cell_type": "code",
      "source": [
        "import numpy as np\n",
        "import pandas as pd\n",
        "import yfinance as yf"
      ],
      "metadata": {
        "id": "Cd9CZW72tQc7"
      },
      "execution_count": 171,
      "outputs": []
    },
    {
      "cell_type": "markdown",
      "source": [
        "**Yahoo Finance's publicly available yfinance library API provides access to the financial statements.**"
      ],
      "metadata": {
        "id": "37N_xOkCBnCz"
      }
    },
    {
      "cell_type": "markdown",
      "source": [
        "Let's start with **Jacobs** and see how to calculate the enterprise value in 2024.\n",
        "\n",
        " Enterprise value (EV) = market capitalization + debt minus cash and cash equivalents\n",
        "\n",
        "\n",
        " The literature-based choice of enterprise value enables comparisons of companies with different capital structures."
      ],
      "metadata": {
        "id": "Wvs0ajuzB60P"
      }
    },
    {
      "cell_type": "code",
      "source": [
        "Jacobs = yf.Ticker('J')"
      ],
      "metadata": {
        "id": "LLKUea_ztvsJ"
      },
      "execution_count": 172,
      "outputs": []
    },
    {
      "cell_type": "markdown",
      "source": [
        "From the balance sheet we can obtain the net debt, the cash and also the number of shares required for calculating the market capitalization."
      ],
      "metadata": {
        "id": "vbqKoH3mKINO"
      }
    },
    {
      "cell_type": "code",
      "source": [
        "Jacobs_balance_sheet  = Jacobs.balance_sheet # collect the balance sheet\n",
        "#Net Debt:\n",
        "Jacobs_Debt24 = Jacobs_balance_sheet.loc['Net Debt']['2024-09-30']\n",
        "#Cash and Cash equivalents\n",
        "Jacobs_Cash24 = Jacobs_balance_sheet.loc['Cash And Cash Equivalents']['2024-09-30']\n",
        "#Market Cap\n",
        "Jacobs_num_shares = Jacobs_balance_sheet.loc['Ordinary Shares Number']['2024-09-30'] # collect the number of shares"
      ],
      "metadata": {
        "id": "haykVhnxJKSr"
      },
      "execution_count": 173,
      "outputs": []
    },
    {
      "cell_type": "markdown",
      "source": [
        "To calculate the market cap we also need the share price of Jacobs, easily obtained from the historical records of the market."
      ],
      "metadata": {
        "id": "yOjhl9_5KaMY"
      }
    },
    {
      "cell_type": "code",
      "source": [
        "hist_prices_Jacobs = Jacobs.history(start='2024-12-31', end='2025-01-01') # a dataframe containing historical prices\n",
        "Jacobs_price = hist_prices_Jacobs['Close'].values[0]\n"
      ],
      "metadata": {
        "id": "m_nfVfQtKnqC"
      },
      "execution_count": 174,
      "outputs": []
    },
    {
      "cell_type": "code",
      "source": [
        "# The EV:\n",
        "Jacobs_EV = (Jacobs_price * Jacobs_num_shares) + (Jacobs_Debt24 - Jacobs_Cash24)\n",
        "print('The 2024 Enterprise value of Jacobs is', round(Jacobs_EV/(10**9),2),'Billions USD')"
      ],
      "metadata": {
        "colab": {
          "base_uri": "https://localhost:8080/"
        },
        "id": "GE92yOKaLU3Y",
        "outputId": "9cbf2ad5-4953-472d-93cf-ef2fff791cc4"
      },
      "execution_count": 175,
      "outputs": [
        {
          "output_type": "stream",
          "name": "stdout",
          "text": [
            "The 2024 Enterprise value of Jacobs is 16.26 Billions USD\n"
          ]
        }
      ]
    },
    {
      "cell_type": "markdown",
      "source": [
        "We are interested in the EV/EBIT multiple as a measure of the economic value provided by the company to its investors, specifically how much they value the company's operating profit. It is a 'price tag' on the business's operating cash."
      ],
      "metadata": {
        "id": "lOj7iIqKMwyF"
      }
    },
    {
      "cell_type": "code",
      "source": [
        "Jacobs_income_stat = Jacobs.income_stmt # collect the income statement\n",
        "Jacobs_EBIT = Jacobs_income_stat.loc['Net Income']['2024-09-30'] # collect the EBIT\n",
        "#Jacobs_income_stat.loc['Total Revenue']['2024-09-30']\n",
        "Jacobs_EV_EBIT = Jacobs_EV/Jacobs_EBIT\n",
        "print('The EV/EBIT multiple of Jacobs is', round(Jacobs_EV_EBIT,1))\n"
      ],
      "metadata": {
        "colab": {
          "base_uri": "https://localhost:8080/"
        },
        "id": "WSleMtSGxzRV",
        "outputId": "d7cde7a5-667f-4503-e31b-8cb455bc64d9"
      },
      "execution_count": 176,
      "outputs": [
        {
          "output_type": "stream",
          "name": "stdout",
          "text": [
            "The EV/EBIT multiple of Jacobs is 20.2\n"
          ]
        }
      ]
    },
    {
      "cell_type": "markdown",
      "source": [
        "Investors are willing to pay twenty times **Jacobs**' operational profit.  Let's compare **Jacobs**' prices to those of its competitors to see how expensive **Jacobs**' profits are!"
      ],
      "metadata": {
        "id": "oc7Qt4PgP-2b"
      }
    },
    {
      "cell_type": "code",
      "source": [
        "Stantec = yf.Ticker('STN.TO') # Stantec ticker\n",
        "Stantec_balance_sheet  = Stantec.balance_sheet # collect the balance sheet of the Stantec\n",
        "#Net Debt:\n",
        "Stantec_Debt24 = Stantec_balance_sheet.loc['Net Debt']['2024-12-31']\n",
        "#Cash and Cash equivalents\n",
        "Stantec_Cash24 = Stantec_balance_sheet.loc['Cash And Cash Equivalents']['2024-12-31']\n",
        "#Market Cap\n",
        "Stantec_num_shares = Stantec_balance_sheet.loc['Ordinary Shares Number']['2024-12-31'] # collect the number of shares\n",
        "#Stantec Price\n",
        "hist_prices_Stantec = Stantec.history(start='2024-12-31', end='2025-01-01') # a dataframe containing historical prices\n",
        "Stantec_price = hist_prices_Stantec['Close'].values[0]\n",
        "# The EV:\n",
        "Stantec_EV = (Stantec_price * Stantec_num_shares) + (Stantec_Debt24 - Stantec_Cash24)\n",
        "print('The 2024 Enterprise value of Stantec is', round(Stantec_EV/(10**9),2),'Billions USD')"
      ],
      "metadata": {
        "colab": {
          "base_uri": "https://localhost:8080/"
        },
        "id": "Tyq56S110XPC",
        "outputId": "455d8261-79d9-4b0f-8d0f-6b8daf6c336d"
      },
      "execution_count": 177,
      "outputs": [
        {
          "output_type": "stream",
          "name": "stdout",
          "text": [
            "The 2024 Enterprise value of Stantec is 13.76 Billions USD\n"
          ]
        }
      ]
    },
    {
      "cell_type": "code",
      "source": [
        "Stantec_income_stat = Stantec.income_stmt # collect the income statement\n",
        "Stantec_EBIT = Stantec_income_stat.loc['Net Income']['2024-12-31'] # collect the EBIT\n",
        "Stantec_EV_EBIT = Stantec_EV/Stantec_EBIT\n",
        "print('The EV/EBIT multiple of Stantec is', round(Stantec_EV_EBIT,1))"
      ],
      "metadata": {
        "colab": {
          "base_uri": "https://localhost:8080/"
        },
        "id": "FGYRqJBVSkop",
        "outputId": "788ec6d8-bf27-4f54-fb5a-4ad76ee93386"
      },
      "execution_count": 178,
      "outputs": [
        {
          "output_type": "stream",
          "name": "stdout",
          "text": [
            "The EV/EBIT multiple of Stantec is 38.1\n"
          ]
        }
      ]
    },
    {
      "cell_type": "markdown",
      "source": [
        "It appears that **Stantec** is actually more expensive than Jacobs!"
      ],
      "metadata": {
        "id": "PB4QoF9dT001"
      }
    },
    {
      "cell_type": "markdown",
      "source": [
        "Lets add a third competitor which is actually the top rated engineering consultancy, **AECOM**."
      ],
      "metadata": {
        "id": "ToBqvZn5T-fd"
      }
    },
    {
      "cell_type": "code",
      "source": [
        "AECOM = yf.Ticker('ACM') # AECOM ticker\n",
        "AECOM_balance_sheet  = AECOM.balance_sheet  # collect the balance sheet of the AECOM\n",
        "#Net Debt:\n",
        "AECOM_Debt24 = AECOM_balance_sheet.loc['Net Debt']['2024-09-30']\n",
        "#Cash and Cash equivalents\n",
        "AECOM_Cash24 = AECOM_balance_sheet.loc['Cash And Cash Equivalents']['2024-09-30']\n",
        "#Market Cap\n",
        "AECOM_num_shares = AECOM_balance_sheet.loc['Ordinary Shares Number']['2024-09-30'] # collect the number of shares\n",
        "#AECOM Price\n",
        "hist_prices_AECOM = AECOM.history(start='2024-09-30', end='2024-10-01') # a dataframe containing historical prices\n",
        "AECOM_price = hist_prices_AECOM['Close'].values[0]\n",
        "# The EV:\n",
        "AECOM_EV = (AECOM_price * AECOM_num_shares) + (AECOM_Debt24 - AECOM_Cash24)\n",
        "print('The 2024 Enterprise value of AECOM is', round(AECOM_EV/(10**9),2),'Billions USD')\n"
      ],
      "metadata": {
        "colab": {
          "base_uri": "https://localhost:8080/"
        },
        "id": "7kQ-rCnC1FGc",
        "outputId": "2944c41f-a955-48cf-a77a-031a52a65708"
      },
      "execution_count": 179,
      "outputs": [
        {
          "output_type": "stream",
          "name": "stdout",
          "text": [
            "The 2024 Enterprise value of AECOM is 12.91 Billions USD\n"
          ]
        }
      ]
    },
    {
      "cell_type": "code",
      "source": [
        "AECOM_income_stat = AECOM.income_stmt # collect the income statement\n",
        "AECOM_EBIT = AECOM_income_stat.loc['Net Income']['2024-09-30'] # collect the EBIT\n",
        "AECOM_EV_EBIT = AECOM_EV/AECOM_EBIT\n",
        "print('The EV/EBIT multiple of AECOM is', round(AECOM_EV_EBIT,1))"
      ],
      "metadata": {
        "colab": {
          "base_uri": "https://localhost:8080/"
        },
        "id": "rKF-1_skVQTZ",
        "outputId": "87ee9ef4-c5b7-44e7-eda9-b1731db0a834"
      },
      "execution_count": 180,
      "outputs": [
        {
          "output_type": "stream",
          "name": "stdout",
          "text": [
            "The EV/EBIT multiple of AECOM is 32.1\n"
          ]
        }
      ]
    },
    {
      "cell_type": "markdown",
      "source": [
        "In terms of value, **AECOM** is closer to **Stantec** than the engineering community has rated it."
      ],
      "metadata": {
        "id": "ugsMOnS6Vrji"
      }
    },
    {
      "cell_type": "markdown",
      "source": [
        "Now we conclude with **Arcadis** which is listed in the Europian market eventhough its headquarted in the USA."
      ],
      "metadata": {
        "id": "eXG0_lxdWKOF"
      }
    },
    {
      "cell_type": "code",
      "source": [
        "Arcadis = yf.Ticker('HIJ.MU') # Arcadis ticker\n",
        "Arcadis_balance_sheet  = Arcadis.balance_sheet# collect the balance sheet of the Arcadis\n",
        "#Net Debt:\n",
        "Arcadis_Debt24 = Arcadis_balance_sheet.loc['Net Debt']['2024-12-31']\n",
        "#Cash and Cash equivalents\n",
        "Arcadis_Cash24 = Arcadis_balance_sheet.loc['Cash And Cash Equivalents']['2024-12-31']\n",
        "#Market Cap\n",
        "Arcadis_num_shares = Arcadis_balance_sheet.loc['Ordinary Shares Number']['2024-12-31'] # collect the number of shares"
      ],
      "metadata": {
        "id": "LZx7Xbma1YmP"
      },
      "execution_count": 181,
      "outputs": []
    },
    {
      "cell_type": "markdown",
      "source": [
        "The fact that **Arcades** is mainly traded in Europe, the Yahoo API is unable to report its share price, it might if there were OTC transactions recorded.\n",
        "\n",
        "Therefore the share price is obtained manually form Google finance : https://www.google.com/finance/quote/ARCAD:AMS?window=1Y"
      ],
      "metadata": {
        "id": "MxlpAdjOYx-_"
      }
    },
    {
      "cell_type": "code",
      "source": [
        "#Arcadis Price\n",
        "Arcadis_price = 55.80 # The price is plugged-in manually\n",
        "# The EV:\n",
        "Arcadis_EV = (Arcadis_price * Arcadis_num_shares) + (Arcadis_Debt24 - Arcadis_Cash24)\n",
        "print('The 2024 Enterprise value of Arcadis is', round(Arcadis_EV/(10**9),2),'Billions Euros')\n"
      ],
      "metadata": {
        "colab": {
          "base_uri": "https://localhost:8080/"
        },
        "id": "GPYACnrVYqaG",
        "outputId": "992e37d6-fd64-4d12-a197-ef758d15fcde"
      },
      "execution_count": 182,
      "outputs": [
        {
          "output_type": "stream",
          "name": "stdout",
          "text": [
            "The 2024 Enterprise value of Arcadis is 5.13 Billions Euros\n"
          ]
        }
      ]
    },
    {
      "cell_type": "code",
      "source": [
        "Arcadis_income_stat = Arcadis.income_stmt # collect the income statement\n",
        "Arcadis_EBIT = Arcadis_income_stat.loc['Net Income']['2024-12-31'] # collect the EBIT\n",
        "Arcadis_EV_EBIT = Arcadis_EV/Arcadis_EBIT\n",
        "print('The EV/EBIT multiple of Arcadis is', round(Arcadis_EV_EBIT,1))"
      ],
      "metadata": {
        "colab": {
          "base_uri": "https://localhost:8080/"
        },
        "id": "wM1DnxD3Z0vc",
        "outputId": "ce8a5526-2b03-4ddf-abee-3e0257cadf51"
      },
      "execution_count": 183,
      "outputs": [
        {
          "output_type": "stream",
          "name": "stdout",
          "text": [
            "The EV/EBIT multiple of Arcadis is 21.1\n"
          ]
        }
      ]
    },
    {
      "cell_type": "markdown",
      "source": [
        "There is a slight suggestion up to this point that **Jacobs** & **Arcadis** might be undervalued. Let's check the P/E ratios and the growth prospective."
      ],
      "metadata": {
        "id": "u1SulnBCvtF8"
      }
    },
    {
      "cell_type": "code",
      "source": [
        "# collect the basic EPS for all the companies\n",
        "Jacobs_EPS = Jacobs_income_stat.loc['Basic EPS']['2024-09-30']\n",
        "Stantec_EPS = Stantec_income_stat.loc['Basic EPS']['2024-12-31']\n",
        "Arcadis_EPS = Arcadis_income_stat.loc['Basic EPS']['2024-12-31']\n",
        "AECOM_EPS = AECOM_income_stat.loc['Basic EPS']['2024-09-30']\n",
        "# Save the P/E ratio for all four companies\n",
        "Jacobs_PE = Jacobs_price/Jacobs_EPS\n",
        "Stantec_PE = Stantec_price/Stantec_EPS\n",
        "Arcadis_PE = Arcadis_price/Arcadis_EPS\n",
        "AECOM_PE = AECOM_price/AECOM_EPS"
      ],
      "metadata": {
        "id": "E_j9z5fswSxe"
      },
      "execution_count": 184,
      "outputs": []
    },
    {
      "cell_type": "code",
      "source": [
        "## Calculate the percentage grwoth in revenue at 2024 for all four companies:\n",
        "Jacobs_grwoth = (Jacobs_income_stat.loc['Total Revenue']['2024-09-30'] -\n",
        "                 Jacobs_income_stat.loc['Total Revenue']['2023-09-30'])/Jacobs_income_stat.loc['Total Revenue']['2023-09-30']\n",
        "Stantec_grwoth = (Stantec_income_stat.loc['Total Revenue']['2024-12-31'] -\n",
        "                 Stantec_income_stat.loc['Total Revenue']['2023-12-31'])/Stantec_income_stat.loc['Total Revenue']['2023-12-31']\n",
        "AECOM_grwoth = (AECOM_income_stat.loc['Total Revenue']['2024-09-30'] -\n",
        "                 AECOM_income_stat.loc['Total Revenue']['2023-09-30'])/AECOM_income_stat.loc['Total Revenue']['2023-09-30']\n",
        "Arcadis_grwoth = (Arcadis_income_stat.loc['Total Revenue']['2024-12-31'] -\n",
        "                 Arcadis_income_stat.loc['Total Revenue']['2023-12-31'])/Arcadis_income_stat.loc['Total Revenue']['2023-12-31']"
      ],
      "metadata": {
        "id": "6XCArsCUw6Vv"
      },
      "execution_count": 185,
      "outputs": []
    },
    {
      "cell_type": "code",
      "source": [
        "#Summarize all results in a table:\n",
        "Rel_Evaluation = pd.DataFrame({'Company': ['Jacobs', 'Stantec', 'AECOM', 'Arcadis'],\n",
        "                                'Price':[round(Jacobs_price,2),round(Stantec_price,2),\n",
        "                                       round(AECOM_price,2),round(Arcadis_price,2)],\n",
        "                               'PE': [round(Jacobs_PE,2), round(Stantec_PE,2), round(AECOM_PE,2), round(Arcadis_PE,2)],\n",
        "                               'EV/EBIT': [round(Jacobs_EV_EBIT,1), round(Stantec_EV_EBIT,1), round(AECOM_EV_EBIT,1), round(Arcadis_EV_EBIT,1)],\n",
        "                               'Growth': [round(Jacobs_grwoth*100,2), round(Stantec_grwoth*100,2), round(AECOM_grwoth*100,2), round(Arcadis_grwoth*100,2)],\n",
        "                               'Adjusted EV/EBIT': [round(Jacobs_EV_EBIT/(Jacobs_grwoth*100),2),round(Stantec_EV_EBIT/(Stantec_grwoth*100),2),\n",
        "                                                    round(AECOM_EV_EBIT/(AECOM_grwoth*100),2),round(Arcadis_EV_EBIT/(Arcadis_grwoth*100),2)]})"
      ],
      "metadata": {
        "id": "rCKcYmbXyPDt"
      },
      "execution_count": 186,
      "outputs": []
    },
    {
      "cell_type": "code",
      "source": [
        "Rel_Evaluation"
      ],
      "metadata": {
        "colab": {
          "base_uri": "https://localhost:8080/",
          "height": 174
        },
        "id": "EhkVxD-CzkQA",
        "outputId": "58494a02-e9bd-4579-f98e-3322d3b230f5"
      },
      "execution_count": 187,
      "outputs": [
        {
          "output_type": "execute_result",
          "data": {
            "text/plain": [
              "   Company   Price     PE  EV/EBIT  Growth  Adjusted EV/EBIT\n",
              "0   Jacobs  131.35  20.69     20.2    5.99              3.37\n",
              "1  Stantec  112.40  35.46     38.1   15.75              2.42\n",
              "2    AECOM  102.28  34.44     32.1   12.01              2.67\n",
              "3  Arcadis   55.80  20.67     21.1   -0.16           -132.00"
            ],
            "text/html": [
              "\n",
              "  <div id=\"df-1e47255e-6f79-44cd-8494-bdebf013d7a3\" class=\"colab-df-container\">\n",
              "    <div>\n",
              "<style scoped>\n",
              "    .dataframe tbody tr th:only-of-type {\n",
              "        vertical-align: middle;\n",
              "    }\n",
              "\n",
              "    .dataframe tbody tr th {\n",
              "        vertical-align: top;\n",
              "    }\n",
              "\n",
              "    .dataframe thead th {\n",
              "        text-align: right;\n",
              "    }\n",
              "</style>\n",
              "<table border=\"1\" class=\"dataframe\">\n",
              "  <thead>\n",
              "    <tr style=\"text-align: right;\">\n",
              "      <th></th>\n",
              "      <th>Company</th>\n",
              "      <th>Price</th>\n",
              "      <th>PE</th>\n",
              "      <th>EV/EBIT</th>\n",
              "      <th>Growth</th>\n",
              "      <th>Adjusted EV/EBIT</th>\n",
              "    </tr>\n",
              "  </thead>\n",
              "  <tbody>\n",
              "    <tr>\n",
              "      <th>0</th>\n",
              "      <td>Jacobs</td>\n",
              "      <td>131.35</td>\n",
              "      <td>20.69</td>\n",
              "      <td>20.2</td>\n",
              "      <td>5.99</td>\n",
              "      <td>3.37</td>\n",
              "    </tr>\n",
              "    <tr>\n",
              "      <th>1</th>\n",
              "      <td>Stantec</td>\n",
              "      <td>112.40</td>\n",
              "      <td>35.46</td>\n",
              "      <td>38.1</td>\n",
              "      <td>15.75</td>\n",
              "      <td>2.42</td>\n",
              "    </tr>\n",
              "    <tr>\n",
              "      <th>2</th>\n",
              "      <td>AECOM</td>\n",
              "      <td>102.28</td>\n",
              "      <td>34.44</td>\n",
              "      <td>32.1</td>\n",
              "      <td>12.01</td>\n",
              "      <td>2.67</td>\n",
              "    </tr>\n",
              "    <tr>\n",
              "      <th>3</th>\n",
              "      <td>Arcadis</td>\n",
              "      <td>55.80</td>\n",
              "      <td>20.67</td>\n",
              "      <td>21.1</td>\n",
              "      <td>-0.16</td>\n",
              "      <td>-132.00</td>\n",
              "    </tr>\n",
              "  </tbody>\n",
              "</table>\n",
              "</div>\n",
              "    <div class=\"colab-df-buttons\">\n",
              "\n",
              "  <div class=\"colab-df-container\">\n",
              "    <button class=\"colab-df-convert\" onclick=\"convertToInteractive('df-1e47255e-6f79-44cd-8494-bdebf013d7a3')\"\n",
              "            title=\"Convert this dataframe to an interactive table.\"\n",
              "            style=\"display:none;\">\n",
              "\n",
              "  <svg xmlns=\"http://www.w3.org/2000/svg\" height=\"24px\" viewBox=\"0 -960 960 960\">\n",
              "    <path d=\"M120-120v-720h720v720H120Zm60-500h600v-160H180v160Zm220 220h160v-160H400v160Zm0 220h160v-160H400v160ZM180-400h160v-160H180v160Zm440 0h160v-160H620v160ZM180-180h160v-160H180v160Zm440 0h160v-160H620v160Z\"/>\n",
              "  </svg>\n",
              "    </button>\n",
              "\n",
              "  <style>\n",
              "    .colab-df-container {\n",
              "      display:flex;\n",
              "      gap: 12px;\n",
              "    }\n",
              "\n",
              "    .colab-df-convert {\n",
              "      background-color: #E8F0FE;\n",
              "      border: none;\n",
              "      border-radius: 50%;\n",
              "      cursor: pointer;\n",
              "      display: none;\n",
              "      fill: #1967D2;\n",
              "      height: 32px;\n",
              "      padding: 0 0 0 0;\n",
              "      width: 32px;\n",
              "    }\n",
              "\n",
              "    .colab-df-convert:hover {\n",
              "      background-color: #E2EBFA;\n",
              "      box-shadow: 0px 1px 2px rgba(60, 64, 67, 0.3), 0px 1px 3px 1px rgba(60, 64, 67, 0.15);\n",
              "      fill: #174EA6;\n",
              "    }\n",
              "\n",
              "    .colab-df-buttons div {\n",
              "      margin-bottom: 4px;\n",
              "    }\n",
              "\n",
              "    [theme=dark] .colab-df-convert {\n",
              "      background-color: #3B4455;\n",
              "      fill: #D2E3FC;\n",
              "    }\n",
              "\n",
              "    [theme=dark] .colab-df-convert:hover {\n",
              "      background-color: #434B5C;\n",
              "      box-shadow: 0px 1px 3px 1px rgba(0, 0, 0, 0.15);\n",
              "      filter: drop-shadow(0px 1px 2px rgba(0, 0, 0, 0.3));\n",
              "      fill: #FFFFFF;\n",
              "    }\n",
              "  </style>\n",
              "\n",
              "    <script>\n",
              "      const buttonEl =\n",
              "        document.querySelector('#df-1e47255e-6f79-44cd-8494-bdebf013d7a3 button.colab-df-convert');\n",
              "      buttonEl.style.display =\n",
              "        google.colab.kernel.accessAllowed ? 'block' : 'none';\n",
              "\n",
              "      async function convertToInteractive(key) {\n",
              "        const element = document.querySelector('#df-1e47255e-6f79-44cd-8494-bdebf013d7a3');\n",
              "        const dataTable =\n",
              "          await google.colab.kernel.invokeFunction('convertToInteractive',\n",
              "                                                    [key], {});\n",
              "        if (!dataTable) return;\n",
              "\n",
              "        const docLinkHtml = 'Like what you see? Visit the ' +\n",
              "          '<a target=\"_blank\" href=https://colab.research.google.com/notebooks/data_table.ipynb>data table notebook</a>'\n",
              "          + ' to learn more about interactive tables.';\n",
              "        element.innerHTML = '';\n",
              "        dataTable['output_type'] = 'display_data';\n",
              "        await google.colab.output.renderOutput(dataTable, element);\n",
              "        const docLink = document.createElement('div');\n",
              "        docLink.innerHTML = docLinkHtml;\n",
              "        element.appendChild(docLink);\n",
              "      }\n",
              "    </script>\n",
              "  </div>\n",
              "\n",
              "\n",
              "    <div id=\"df-d1f0108a-b192-40eb-8e9f-92652db418d1\">\n",
              "      <button class=\"colab-df-quickchart\" onclick=\"quickchart('df-d1f0108a-b192-40eb-8e9f-92652db418d1')\"\n",
              "                title=\"Suggest charts\"\n",
              "                style=\"display:none;\">\n",
              "\n",
              "<svg xmlns=\"http://www.w3.org/2000/svg\" height=\"24px\"viewBox=\"0 0 24 24\"\n",
              "     width=\"24px\">\n",
              "    <g>\n",
              "        <path d=\"M19 3H5c-1.1 0-2 .9-2 2v14c0 1.1.9 2 2 2h14c1.1 0 2-.9 2-2V5c0-1.1-.9-2-2-2zM9 17H7v-7h2v7zm4 0h-2V7h2v10zm4 0h-2v-4h2v4z\"/>\n",
              "    </g>\n",
              "</svg>\n",
              "      </button>\n",
              "\n",
              "<style>\n",
              "  .colab-df-quickchart {\n",
              "      --bg-color: #E8F0FE;\n",
              "      --fill-color: #1967D2;\n",
              "      --hover-bg-color: #E2EBFA;\n",
              "      --hover-fill-color: #174EA6;\n",
              "      --disabled-fill-color: #AAA;\n",
              "      --disabled-bg-color: #DDD;\n",
              "  }\n",
              "\n",
              "  [theme=dark] .colab-df-quickchart {\n",
              "      --bg-color: #3B4455;\n",
              "      --fill-color: #D2E3FC;\n",
              "      --hover-bg-color: #434B5C;\n",
              "      --hover-fill-color: #FFFFFF;\n",
              "      --disabled-bg-color: #3B4455;\n",
              "      --disabled-fill-color: #666;\n",
              "  }\n",
              "\n",
              "  .colab-df-quickchart {\n",
              "    background-color: var(--bg-color);\n",
              "    border: none;\n",
              "    border-radius: 50%;\n",
              "    cursor: pointer;\n",
              "    display: none;\n",
              "    fill: var(--fill-color);\n",
              "    height: 32px;\n",
              "    padding: 0;\n",
              "    width: 32px;\n",
              "  }\n",
              "\n",
              "  .colab-df-quickchart:hover {\n",
              "    background-color: var(--hover-bg-color);\n",
              "    box-shadow: 0 1px 2px rgba(60, 64, 67, 0.3), 0 1px 3px 1px rgba(60, 64, 67, 0.15);\n",
              "    fill: var(--button-hover-fill-color);\n",
              "  }\n",
              "\n",
              "  .colab-df-quickchart-complete:disabled,\n",
              "  .colab-df-quickchart-complete:disabled:hover {\n",
              "    background-color: var(--disabled-bg-color);\n",
              "    fill: var(--disabled-fill-color);\n",
              "    box-shadow: none;\n",
              "  }\n",
              "\n",
              "  .colab-df-spinner {\n",
              "    border: 2px solid var(--fill-color);\n",
              "    border-color: transparent;\n",
              "    border-bottom-color: var(--fill-color);\n",
              "    animation:\n",
              "      spin 1s steps(1) infinite;\n",
              "  }\n",
              "\n",
              "  @keyframes spin {\n",
              "    0% {\n",
              "      border-color: transparent;\n",
              "      border-bottom-color: var(--fill-color);\n",
              "      border-left-color: var(--fill-color);\n",
              "    }\n",
              "    20% {\n",
              "      border-color: transparent;\n",
              "      border-left-color: var(--fill-color);\n",
              "      border-top-color: var(--fill-color);\n",
              "    }\n",
              "    30% {\n",
              "      border-color: transparent;\n",
              "      border-left-color: var(--fill-color);\n",
              "      border-top-color: var(--fill-color);\n",
              "      border-right-color: var(--fill-color);\n",
              "    }\n",
              "    40% {\n",
              "      border-color: transparent;\n",
              "      border-right-color: var(--fill-color);\n",
              "      border-top-color: var(--fill-color);\n",
              "    }\n",
              "    60% {\n",
              "      border-color: transparent;\n",
              "      border-right-color: var(--fill-color);\n",
              "    }\n",
              "    80% {\n",
              "      border-color: transparent;\n",
              "      border-right-color: var(--fill-color);\n",
              "      border-bottom-color: var(--fill-color);\n",
              "    }\n",
              "    90% {\n",
              "      border-color: transparent;\n",
              "      border-bottom-color: var(--fill-color);\n",
              "    }\n",
              "  }\n",
              "</style>\n",
              "\n",
              "      <script>\n",
              "        async function quickchart(key) {\n",
              "          const quickchartButtonEl =\n",
              "            document.querySelector('#' + key + ' button');\n",
              "          quickchartButtonEl.disabled = true;  // To prevent multiple clicks.\n",
              "          quickchartButtonEl.classList.add('colab-df-spinner');\n",
              "          try {\n",
              "            const charts = await google.colab.kernel.invokeFunction(\n",
              "                'suggestCharts', [key], {});\n",
              "          } catch (error) {\n",
              "            console.error('Error during call to suggestCharts:', error);\n",
              "          }\n",
              "          quickchartButtonEl.classList.remove('colab-df-spinner');\n",
              "          quickchartButtonEl.classList.add('colab-df-quickchart-complete');\n",
              "        }\n",
              "        (() => {\n",
              "          let quickchartButtonEl =\n",
              "            document.querySelector('#df-d1f0108a-b192-40eb-8e9f-92652db418d1 button');\n",
              "          quickchartButtonEl.style.display =\n",
              "            google.colab.kernel.accessAllowed ? 'block' : 'none';\n",
              "        })();\n",
              "      </script>\n",
              "    </div>\n",
              "\n",
              "  <div id=\"id_8050f4a5-6059-4607-80eb-20974ed9d234\">\n",
              "    <style>\n",
              "      .colab-df-generate {\n",
              "        background-color: #E8F0FE;\n",
              "        border: none;\n",
              "        border-radius: 50%;\n",
              "        cursor: pointer;\n",
              "        display: none;\n",
              "        fill: #1967D2;\n",
              "        height: 32px;\n",
              "        padding: 0 0 0 0;\n",
              "        width: 32px;\n",
              "      }\n",
              "\n",
              "      .colab-df-generate:hover {\n",
              "        background-color: #E2EBFA;\n",
              "        box-shadow: 0px 1px 2px rgba(60, 64, 67, 0.3), 0px 1px 3px 1px rgba(60, 64, 67, 0.15);\n",
              "        fill: #174EA6;\n",
              "      }\n",
              "\n",
              "      [theme=dark] .colab-df-generate {\n",
              "        background-color: #3B4455;\n",
              "        fill: #D2E3FC;\n",
              "      }\n",
              "\n",
              "      [theme=dark] .colab-df-generate:hover {\n",
              "        background-color: #434B5C;\n",
              "        box-shadow: 0px 1px 3px 1px rgba(0, 0, 0, 0.15);\n",
              "        filter: drop-shadow(0px 1px 2px rgba(0, 0, 0, 0.3));\n",
              "        fill: #FFFFFF;\n",
              "      }\n",
              "    </style>\n",
              "    <button class=\"colab-df-generate\" onclick=\"generateWithVariable('Rel_Evaluation')\"\n",
              "            title=\"Generate code using this dataframe.\"\n",
              "            style=\"display:none;\">\n",
              "\n",
              "  <svg xmlns=\"http://www.w3.org/2000/svg\" height=\"24px\"viewBox=\"0 0 24 24\"\n",
              "       width=\"24px\">\n",
              "    <path d=\"M7,19H8.4L18.45,9,17,7.55,7,17.6ZM5,21V16.75L18.45,3.32a2,2,0,0,1,2.83,0l1.4,1.43a1.91,1.91,0,0,1,.58,1.4,1.91,1.91,0,0,1-.58,1.4L9.25,21ZM18.45,9,17,7.55Zm-12,3A5.31,5.31,0,0,0,4.9,8.1,5.31,5.31,0,0,0,1,6.5,5.31,5.31,0,0,0,4.9,4.9,5.31,5.31,0,0,0,6.5,1,5.31,5.31,0,0,0,8.1,4.9,5.31,5.31,0,0,0,12,6.5,5.46,5.46,0,0,0,6.5,12Z\"/>\n",
              "  </svg>\n",
              "    </button>\n",
              "    <script>\n",
              "      (() => {\n",
              "      const buttonEl =\n",
              "        document.querySelector('#id_8050f4a5-6059-4607-80eb-20974ed9d234 button.colab-df-generate');\n",
              "      buttonEl.style.display =\n",
              "        google.colab.kernel.accessAllowed ? 'block' : 'none';\n",
              "\n",
              "      buttonEl.onclick = () => {\n",
              "        google.colab.notebook.generateWithVariable('Rel_Evaluation');\n",
              "      }\n",
              "      })();\n",
              "    </script>\n",
              "  </div>\n",
              "\n",
              "    </div>\n",
              "  </div>\n"
            ],
            "application/vnd.google.colaboratory.intrinsic+json": {
              "type": "dataframe",
              "variable_name": "Rel_Evaluation",
              "summary": "{\n  \"name\": \"Rel_Evaluation\",\n  \"rows\": 4,\n  \"fields\": [\n    {\n      \"column\": \"Company\",\n      \"properties\": {\n        \"dtype\": \"string\",\n        \"num_unique_values\": 4,\n        \"samples\": [\n          \"Stantec\",\n          \"Arcadis\",\n          \"Jacobs\"\n        ],\n        \"semantic_type\": \"\",\n        \"description\": \"\"\n      }\n    },\n    {\n      \"column\": \"Price\",\n      \"properties\": {\n        \"dtype\": \"number\",\n        \"std\": 32.11740792259965,\n        \"min\": 55.8,\n        \"max\": 131.35,\n        \"num_unique_values\": 4,\n        \"samples\": [\n          112.4,\n          55.8,\n          131.35\n        ],\n        \"semantic_type\": \"\",\n        \"description\": \"\"\n      }\n    },\n    {\n      \"column\": \"PE\",\n      \"properties\": {\n        \"dtype\": \"number\",\n        \"std\": 8.249309061976037,\n        \"min\": 20.67,\n        \"max\": 35.46,\n        \"num_unique_values\": 4,\n        \"samples\": [\n          35.46,\n          20.67,\n          20.69\n        ],\n        \"semantic_type\": \"\",\n        \"description\": \"\"\n      }\n    },\n    {\n      \"column\": \"EV/EBIT\",\n      \"properties\": {\n        \"dtype\": \"number\",\n        \"std\": 8.702633700974284,\n        \"min\": 20.2,\n        \"max\": 38.1,\n        \"num_unique_values\": 4,\n        \"samples\": [\n          38.1,\n          21.1,\n          20.2\n        ],\n        \"semantic_type\": \"\",\n        \"description\": \"\"\n      }\n    },\n    {\n      \"column\": \"Growth\",\n      \"properties\": {\n        \"dtype\": \"number\",\n        \"std\": 6.979404821807277,\n        \"min\": -0.16,\n        \"max\": 15.75,\n        \"num_unique_values\": 4,\n        \"samples\": [\n          15.75,\n          -0.16,\n          5.99\n        ],\n        \"semantic_type\": \"\",\n        \"description\": \"\"\n      }\n    },\n    {\n      \"column\": \"Adjusted EV/EBIT\",\n      \"properties\": {\n        \"dtype\": \"number\",\n        \"std\": 67.41119911903857,\n        \"min\": -132.0,\n        \"max\": 3.37,\n        \"num_unique_values\": 4,\n        \"samples\": [\n          2.42,\n          -132.0,\n          3.37\n        ],\n        \"semantic_type\": \"\",\n        \"description\": \"\"\n      }\n    }\n  ]\n}"
            }
          },
          "metadata": {},
          "execution_count": 187
        }
      ]
    },
    {
      "cell_type": "code",
      "source": [
        "import matplotlib.pyplot as plt\n",
        "import seaborn as sns\n",
        "\n",
        "Valuation_melted = Rel_Evaluation.melt(\n",
        "    id_vars=\"Company\",\n",
        "    value_vars=[\"EV/EBIT\", \"PE\", \"Adjusted EV/EBIT\"],\n",
        "    var_name=\"Metric\",\n",
        "    value_name=\"Value\"\n",
        ")\n",
        "\n",
        "Valuation_melted.loc[11,'Value'] = 0\n",
        "\n",
        "\n",
        "plt.figure(figsize=(10,6))\n",
        "sns.barplot(data=Valuation_melted, x=\"Company\", y=\"Value\", hue=\"Metric\")\n",
        "\n",
        "plt.title(\"Relative Valuation Comparison\")\n",
        "plt.ylabel(\"Value\")\n",
        "plt.xlabel(\"Company\")\n",
        "plt.legend(title=\"Metric\")\n",
        "plt.tight_layout()\n",
        "plt.show()\n"
      ],
      "metadata": {
        "colab": {
          "base_uri": "https://localhost:8080/",
          "height": 607
        },
        "id": "MjJtvGsV6znl",
        "outputId": "a4dc6957-01ab-444c-b845-6f5b103ae982"
      },
      "execution_count": 188,
      "outputs": [
        {
          "output_type": "display_data",
          "data": {
            "text/plain": [
              "<Figure size 1000x600 with 1 Axes>"
            ],
            "image/png": "[encoded data removed]"
          },
          "metadata": {}
        }
      ]
    },
    {
      "cell_type": "markdown",
      "source": [
        "- The lower EV/EBIT ratio at which **Jacobs** is trading can be tempting to conclude that Jacobs is cheaper than its peers, judgeing only by what investors are willing to pay today for profits.\n",
        "\n",
        "- When the valuation is adjusted on growth basis, we can see that Jacobs is actually expensive compared to its other competitors.\n",
        "\n",
        "- A fair value for **Jacobs** can be obtained to confirm that the company is overvalued.\n",
        "\n",
        "- Arcades is showing negative growth while trading at an EV/EBIT ratio similar to Jacobs (also see P/E ratio), therefore it was excluded from the analysis."
      ],
      "metadata": {
        "id": "aLMBlKet3kUc"
      }
    }
  ]
}