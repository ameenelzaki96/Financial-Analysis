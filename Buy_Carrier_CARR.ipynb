{
  "nbformat": 4,
  "nbformat_minor": 0,
  "metadata": {
    "colab": {
      "provenance": []
    },
    "kernelspec": {
      "name": "python3",
      "display_name": "Python 3"
    },
    "language_info": {
      "name": "python"
    }
  },
  "cells": [
    {
      "cell_type": "markdown",
      "source": [
        "***Introduction***\n",
        "\n"
      ],
      "metadata": {
        "id": "eto-N7v6waiz"
      }
    },
    {
      "cell_type": "markdown",
      "source": [
        "Forbes, the sharpest business journal, published an article about HVAC players evaluating brands based on comfort and reliability.\n",
        "(https://www.forbes.com/home-improvement/hvac/best-air-conditioning-brands/#york_section)\n",
        "\n",
        " - **Lennox** was the most efficient, **Carrier** was considered more intelligent, **Coleman** was the most cost-effective, and the list goes on to include **York** and **Trane**.\n",
        "\n",
        " - Among the abovementioned, only **Lennox**,**Carrier**,**Trane** are listed on the New York Stock Exchange (NYSE), which means that their financial data is publicly avialable on the web.\n",
        "\n",
        " - Another relevant company has been added to the list: **Midea**, a Chinese company that, while not listed on the NYSE, is traded on OTC markets and has its stock price available on Yahoo Finance."
      ],
      "metadata": {
        "id": "UQvuPlP773Pu"
      }
    },
    {
      "cell_type": "markdown",
      "source": [
        "***The Comparison***"
      ],
      "metadata": {
        "id": "3pDPPsOu7kSQ"
      }
    },
    {
      "cell_type": "markdown",
      "source": [
        "All of these companies are manufacturers and sellers of heating, ventilation, and cooling products that compete globally.  The goal of this nootbook is to compare them from a financial perspective.  The Enterprise Value (EV) - EBITDA ratio is used; the choice is natural, and the argument in the financial literature is that EV allows for comparing companies with different capital structures (Debt & Equity), whereas EBITDA is a preferred choice to evaluate their profitability regardless of their depreciation calculations (which are fundamentally dependent on accounting standards).\n",
        "\n",
        "The higher the EV/EBITDA ratio, the more \"expensive\" the company's profit is compared to its peers, and this higher price tag must be justified by the company's growth outlook, as higher growth justifies the price tag when investors value not only the company's current performance but also its future outlook."
      ],
      "metadata": {
        "id": "HnzsJZyb4Hk0"
      }
    },
    {
      "cell_type": "markdown",
      "source": [
        "***The Data***"
      ],
      "metadata": {
        "id": "ob70s5hh8e8m"
      }
    },
    {
      "cell_type": "markdown",
      "source": [
        "Financial statements are easily accessible via the publicly available Yahoo Finance website. Rather than manually pulling the required numbers from each company's website, the library API allows for instant report retrieval, making it useful for automating financial analysis and exploring company finances."
      ],
      "metadata": {
        "id": "CwaKT6ai8jEW"
      }
    },
    {
      "cell_type": "code",
      "source": [
        "# import the neccessary libraries:\n",
        "import numpy as np\n",
        "import pandas as pd\n",
        "import yfinance as yf # the Yahoo finance API"
      ],
      "metadata": {
        "id": "OQIZcKW29wDZ"
      },
      "execution_count": 86,
      "outputs": []
    },
    {
      "cell_type": "code",
      "source": [
        "# tickers are the unique identifers of stocks\n",
        "tickers = ['LII','CARR','TT'] # media is excluded from the loop because some data is missing\n",
        "\n",
        "# prepare the empty lists of required metrics for evaluation\n",
        "EV = [] # The Enterprise Value\n",
        "EBITDA = [] # The recorded EBITDA\n",
        "Number_of_shares = [] # the number of shares\n",
        "Debt = [] # the debt at the end of the year\n",
        "Cash = [] # the cash at the end of the year\n",
        "EV_EBITDA = [] # the ratio\n",
        "Price = [] # closing price at the end of the year\n",
        "growth = [] # growth at 2024 from past FY 2023\n",
        "Adj_EV_EBITDA = [] # ratio adjusted per growth\n",
        "P_E = [] # price over earning ratio\n",
        "for ticker in tickers: # loop over the tickers\n",
        "  stock = yf.Ticker(ticker)\n",
        "  balance = stock.balance_sheet # collect the balance sheet\n",
        "  income = stock.income_stmt # collect the income statement\n",
        "  Debt_24 = balance.loc['Net Debt']['2024-12-31'] # Debt\n",
        "  Cash_24 = balance.loc['Cash And Cash Equivalents']['2024-12-31'] #Cash\n",
        "  num_of_shares = balance.loc['Ordinary Shares Number']['2024-12-31'] #shares\n",
        "  hist_prices = stock.history(start='2024-12-31', end='2025-01-01') # a dataframe containing historical prices\n",
        "  stock_price = hist_prices['Close'].values[0] #only closing price\n",
        "  stock_EV = Debt_24 - Cash_24 + (num_of_shares * stock_price)\n",
        "  stock_EBITDA = income.loc['EBITDA']['2024-12-31']\n",
        "  stock_EV_EBITDA = stock_EV / stock_EBITDA\n",
        "  stock_EPS = income.loc['Basic EPS']['2024-12-31']\n",
        "  stock_growth = (income.loc['Total Revenue']['2024-12-31'] -\n",
        "                  income.loc['Total Revenue']['2023-12-31'] )/ income.loc['Total Revenue']['2023-12-31']\n",
        " # create a list of desired metrics for evaluation\n",
        "  EBITDA.append(round(stock_EBITDA/(10**9),2))\n",
        "  EV.append(round(stock_EV/(10**9),2))\n",
        "  Debt.append(round(Debt_24/(10**9),2))\n",
        "  Cash.append(round(Cash_24/(10**9),2))\n",
        "  Number_of_shares.append(num_of_shares)\n",
        "  EV_EBITDA.append(round(stock_EV_EBITDA,2))\n",
        "  Price.append(round(stock_price,2))\n",
        "  growth.append(round(stock_growth*100,2))\n",
        "  Adj_EV_EBITDA.append(round(stock_EV_EBITDA / (stock_growth*100),2))\n",
        "  P_E.append(round(stock_price / stock_EPS,2))"
      ],
      "metadata": {
        "id": "NuDAof_O96-g"
      },
      "execution_count": 87,
      "outputs": []
    },
    {
      "cell_type": "code",
      "source": [
        "# same block of code is executed again but for Media stock\n",
        "stock = yf.Ticker('0300.HK')\n",
        "balance = stock.balance_sheet\n",
        "income = stock.income_stmt\n",
        "#instead of Net Debt which is missing use Total Debt\n",
        "Debt_24 = balance.loc['Total Debt']['2024-12-31']\n",
        "Cash_24 = balance.loc['Cash And Cash Equivalents']['2024-12-31']\n",
        "num_of_shares = balance.loc['Ordinary Shares Number']['2024-12-31']\n",
        "hist_prices = stock.history(start='2024-12-31', end='2025-01-01')\n",
        "stock_price = hist_prices['Close'].values[0]\n",
        "stock_EV = Debt_24 - Cash_24 + (num_of_shares * stock_price)\n",
        "stock_EBITDA = income.loc['EBITDA']['2024-12-31']\n",
        "stock_EV_EBITDA = stock_EV / stock_EBITDA\n",
        "stock_EPS = income.loc['Basic EPS']['2024-12-31']\n",
        "stock_growth = (income.loc['Total Revenue']['2024-12-31'] -\n",
        "                income.loc['Total Revenue']['2023-12-31'] )/ income.loc['Total Revenue']['2023-12-31']\n",
        "EBITDA.append(round(stock_EBITDA/(10**9),2))\n",
        "EV.append(round(stock_EV/(10**9),2))\n",
        "Debt.append(round(Debt_24/(10**9),2))\n",
        "Cash.append(round(Cash_24/(10**9),2))\n",
        "Number_of_shares.append(num_of_shares)\n",
        "EV_EBITDA.append(round(stock_EV_EBITDA,2))\n",
        "Price.append(round(stock_price,2))\n",
        "growth.append(round(stock_growth*100,2))\n",
        "Adj_EV_EBITDA.append(round(stock_EV_EBITDA / (stock_growth*100),2))\n",
        "P_E.append(round(stock_price / stock_EPS,2))"
      ],
      "metadata": {
        "id": "El8RMoCGE3Hu"
      },
      "execution_count": 88,
      "outputs": []
    },
    {
      "cell_type": "code",
      "source": [
        "stocks = ['Lennox','Carrier','Trane','Midea'] # a lsit of the companies names\n",
        "Rel_Evaluation = pd.DataFrame({'Company': stocks,\n",
        "                               'EV/EBITDA': EV_EBITDA,\n",
        "                               'Price': Price,\n",
        "                               'Growth': growth,\n",
        "                               'Adj EV/EBITDA': Adj_EV_EBITDA,\n",
        "                               'P/E': P_E})\n",
        "\n",
        "import matplotlib.pyplot as plt\n",
        "import seaborn as sns\n",
        "\n",
        "Valuation_melted = Rel_Evaluation.melt(\n",
        "    id_vars=\"Company\",\n",
        "    value_vars=[\"EV/EBITDA\", \"P/E\", \"Adj EV/EBITDA\"],\n",
        "    var_name=\"Metric\",\n",
        "    value_name=\"Value\"\n",
        ")\n",
        "\n",
        "\n",
        "\n",
        "plt.figure(figsize=(10,6))\n",
        "sns.barplot(data=Valuation_melted, x=\"Company\", y=\"Value\", hue=\"Metric\")\n",
        "\n",
        "plt.title(\"Relative Valuation Comparison\")\n",
        "plt.ylabel(\"Value\")\n",
        "plt.xlabel(\"Company\")\n",
        "plt.legend(title=\"Metric\")\n",
        "plt.tight_layout()\n",
        "plt.show()"
      ],
      "metadata": {
        "colab": {
          "base_uri": "https://localhost:8080/",
          "height": 607
        },
        "id": "8bSyfE_nOkc8",
        "outputId": "9f60174d-203f-4c1f-b8e4-d4f4d9418619"
      },
      "execution_count": 89,
      "outputs": [
        {
          "output_type": "display_data",
          "data": {
            "text/plain": [
              "<Figure size 1000x600 with 1 Axes>"
            ],
            "image/png": "[encoded data removed]"
          },
          "metadata": {}
        }
      ]
    },
    {
      "cell_type": "markdown",
      "source": [
        "- **Lennox** & **Trane** are close to each other defining a peer group with an average EV/EBITDA ratio of 20.52, this suggest that two companies are way more expensive than **Carrier** & **Media**.\n",
        "\n",
        "- To determine whether there is any potential for growth in **Carrier** and **Media** at the end of FY 2024.  **Carrier** had the most significant growth among all companies, but it was valued lower than **Lennox** and **Trane**.\n",
        "\n",
        "- **Media** may also be undervalued in comparison to its peers, but its growth rate is lower than that of **Carrier**."
      ],
      "metadata": {
        "id": "8h49YJwGab7j"
      }
    },
    {
      "cell_type": "markdown",
      "source": [
        "Lets stick to **Carrier**:\n",
        "- The average growth-adjusted EV/EBITDA is 2.23.\n",
        "- For a \"Fair\" valuation of the company its current ratio must rise to this level.\n",
        "- With the recorded growth the New EV/EBITDA must rise to the value of 42.59.\n",
        "- The current EV for the company is 63.9 \\$ Billions, with EBITDA of 4.09 \\$ Billions.\n",
        "- The implied EV under the new valuation is 174 \\$ Billions.\n",
        "- Under this new EV the market cap is updated an a new price of 170 \\$ could be projected."
      ],
      "metadata": {
        "id": "-QxrPv-od-ZB"
      }
    },
    {
      "cell_type": "markdown",
      "source": [
        "**Closing Comments**\n",
        "\n",
        "- **Carrier** Clearly, the preceding analysis's target price is overly optimistic; such a dramatic increase is unusual in practice.\n",
        "- However, the current consensus among analysts promotes buying shares of this company, with price targets ranging from an average of 77 \\$ to a maximum of 90 \\$.\n",
        "\n",
        "- As a result, **Carrier** may remain the most interesting of the analyzed companies.\n",
        "\n",
        "\n",
        "\n",
        "In conclusion this computational notebook was generated on 18/09/2025, it will be very interesting to see how **Carrier** will perform at the end of this year.\n",
        "\n",
        "P.S The author of this notebook has bough a single share from the company."
      ],
      "metadata": {
        "id": "B4SEfMK_ndYh"
      }
    }
  ]
}